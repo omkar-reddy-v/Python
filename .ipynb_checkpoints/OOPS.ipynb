{
 "cells": [
  {
   "cell_type": "code",
   "execution_count": 2,
   "id": "35075abd-1ddc-4bcf-bfc6-c74c1881d09c",
   "metadata": {},
   "outputs": [
    {
     "name": "stdout",
     "output_type": "stream",
     "text": [
      "roll numbers\n",
      "students names\n",
      "1 st marks\n",
      "2nd marks\n",
      "3rd marks\n",
      "total marks of students\n"
     ]
    }
   ],
   "source": [
    "class student:\n",
    "    def RollNum():\n",
    "        print(\"roll numbers\")\n",
    "    def StudentName():\n",
    "        print(\"students names\")\n",
    "    def mark1():\n",
    "        print(\"1 st marks\")\n",
    "    def mark2():\n",
    "        print(\"2nd marks\")\n",
    "    def mark3():\n",
    "        print(\"3rd marks\")\n",
    "    def totalMarks():\n",
    "        print(\"total marks of students\")\n",
    "students=student\n",
    "students.RollNum()\n",
    "students.StudentName()\n",
    "students.mark1()\n",
    "students.mark2()\n",
    "students.mark3()\n",
    "students.totalMarks()"
   ]
  },
  {
   "cell_type": "code",
   "execution_count": 3,
   "id": "0f5b21dd-d9b0-4a11-a01e-7f1a2dc69525",
   "metadata": {},
   "outputs": [
    {
     "name": "stdout",
     "output_type": "stream",
     "text": [
      "roll numbers\n",
      "students names\n",
      "1 st marks\n",
      "2nd marks\n",
      "3rd marks\n"
     ]
    }
   ],
   "source": [
    "SetStudDetails=student\n",
    "SetStudDetails.RollNum()\n",
    "SetStudDetails.StudentName()\n",
    "SetStudDetails.mark1()\n",
    "SetStudDetails.mark2()\n",
    "SetStudDetails.mark3()"
   ]
  },
  {
   "cell_type": "code",
   "execution_count": 7,
   "id": "5f85973f-df46-4b52-afe3-3f7ebd0974b3",
   "metadata": {},
   "outputs": [
    {
     "name": "stdout",
     "output_type": "stream",
     "text": [
      "total marks of students\n"
     ]
    }
   ],
   "source": [
    "CalculateTotal=student\n",
    "CalculateTotal.totalMarks()"
   ]
  },
  {
   "cell_type": "code",
   "execution_count": 9,
   "id": "cd9943d4-2c11-451f-b7b0-a7d652d4302d",
   "metadata": {},
   "outputs": [
    {
     "name": "stdout",
     "output_type": "stream",
     "text": [
      "roll numbers\n",
      "students names\n",
      "total marks of students\n"
     ]
    }
   ],
   "source": [
    "displayStudDetails=student\n",
    "displayStudDetails.RollNum()\n",
    "displayStudDetails.StudentName()\n",
    "displayStudDetails.totalMarks()"
   ]
  },
  {
   "cell_type": "code",
   "execution_count": 11,
   "id": "fbaf13e8-e129-4605-afe3-544cf6db5704",
   "metadata": {},
   "outputs": [
    {
     "name": "stdout",
     "output_type": "stream",
     "text": [
      "2185635246736\n"
     ]
    }
   ],
   "source": [
    "class studentDemo:\n",
    "    print(id(student))"
   ]
  },
  {
   "cell_type": "code",
   "execution_count": 31,
   "id": "b14339d9-6306-4705-be46-0200f5090a3d",
   "metadata": {},
   "outputs": [
    {
     "name": "stdout",
     "output_type": "stream",
     "text": [
      "AccountNo\n"
     ]
    }
   ],
   "source": [
    "class Account:\n",
    "    def AccountNo():\n",
    "        print(\"AccountNo\")\n",
    "    def AccountType():\n",
    "        print(\"AccountType\")\n",
    "    def AccountBalance():\n",
    "        print(\"our balance\")\n",
    "accounts=Account\n",
    "accounts.AccountNo()"
   ]
  },
  {
   "cell_type": "code",
   "execution_count": 24,
   "id": "30f5f1c6-0b59-4c9e-9065-8afde7957070",
   "metadata": {},
   "outputs": [
    {
     "name": "stdout",
     "output_type": "stream",
     "text": [
      "<class 'int'>\n"
     ]
    }
   ],
   "source": [
    "a=12\n",
    "print(type(a))"
   ]
  },
  {
   "cell_type": "code",
   "execution_count": 2,
   "id": "aeb37cff-deb3-44ac-a6c4-f80efaca44d2",
   "metadata": {},
   "outputs": [
    {
     "name": "stdin",
     "output_type": "stream",
     "text": [
      " 20\n",
      " 40\n"
     ]
    },
    {
     "name": "stdout",
     "output_type": "stream",
     "text": [
      "60\n"
     ]
    }
   ],
   "source": [
    "#without using + add two nunbers\n",
    "\n",
    "y=int(input())\n",
    "x=int(input())\n",
    "while y!=0:\n",
    "    temp = x&y\n",
    "    x=x^y\n",
    "    y=temp<<1\n",
    "print(x)"
   ]
  },
  {
   "cell_type": "code",
   "execution_count": null,
   "id": "d36b141d-fa6d-4cc2-83c6-7a70cd0caea1",
   "metadata": {},
   "outputs": [],
   "source": []
  }
 ],
 "metadata": {
  "kernelspec": {
   "display_name": "Python 3 (ipykernel)",
   "language": "python",
   "name": "python3"
  },
  "language_info": {
   "codemirror_mode": {
    "name": "ipython",
    "version": 3
   },
   "file_extension": ".py",
   "mimetype": "text/x-python",
   "name": "python",
   "nbconvert_exporter": "python",
   "pygments_lexer": "ipython3",
   "version": "3.12.0"
  }
 },
 "nbformat": 4,
 "nbformat_minor": 5
}
