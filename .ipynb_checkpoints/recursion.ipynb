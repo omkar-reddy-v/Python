{
 "cells": [
  {
   "cell_type": "code",
   "execution_count": 17,
   "id": "0c824192-1d84-4b82-8e8f-3011ea5e396c",
   "metadata": {},
   "outputs": [
    {
     "name": "stdin",
     "output_type": "stream",
     "text": [
      " 5\n"
     ]
    }
   ],
   "source": [
    "def fun(n):\n",
    "    i=1\n",
    "    if i<n:\n",
    "        return \n",
    "        fun(n-1)\n",
    "    sum+=fun(n-1)\n",
    "n=int(input())\n",
    "fun(n)"
   ]
  },
  {
   "cell_type": "code",
   "execution_count": 8,
   "id": "8852c666-ec07-48ff-b084-7db0c9c853a2",
   "metadata": {},
   "outputs": [
    {
     "name": "stdin",
     "output_type": "stream",
     "text": [
      " 6\n"
     ]
    },
    {
     "name": "stdout",
     "output_type": "stream",
     "text": [
      "6\n",
      "4\n",
      "2\n"
     ]
    }
   ],
   "source": [
    "def fun(n):\n",
    "    if n==0:\n",
    "        return\n",
    "    if n%2==0:\n",
    "        print(n)\n",
    "    fun(n-1)\n",
    "    \n",
    "n=int(input())\n",
    "fun(n)"
   ]
  },
  {
   "cell_type": "code",
   "execution_count": 7,
   "id": "828a8c58-f2c0-41cd-8dd3-a84c70d0ae75",
   "metadata": {},
   "outputs": [
    {
     "name": "stdin",
     "output_type": "stream",
     "text": [
      " 6\n"
     ]
    },
    {
     "name": "stdout",
     "output_type": "stream",
     "text": [
      "30\n"
     ]
    }
   ],
   "source": [
    "def sum_even(n):\n",
    "    return n*(n-1) if n>0 else 0\n",
    "n=int(input())\n",
    "x=sum_even(n)\n",
    "print(x)"
   ]
  },
  {
   "cell_type": "code",
   "execution_count": 3,
   "id": "16ec2338-330f-4b54-86ca-a9c36e4c7361",
   "metadata": {},
   "outputs": [
    {
     "name": "stdin",
     "output_type": "stream",
     "text": [
      " 6\n"
     ]
    },
    {
     "name": "stdout",
     "output_type": "stream",
     "text": [
      "12\n"
     ]
    }
   ],
   "source": [
    "# sum of n even numbers\n",
    "def sum_of_even(n):\n",
    "    if n==0: return n\n",
    "    if n%2==0:\n",
    "        return n + sum_of_even(n-1)\n",
    "    return sum_of_even(n-1)\n",
    "n=int(input())\n",
    "x=sum_of_even(n)\n",
    "print(x)"
   ]
  },
  {
   "cell_type": "code",
   "execution_count": 2,
   "id": "4075098c-bb78-410b-89d8-5a94a3d96498",
   "metadata": {},
   "outputs": [
    {
     "name": "stdin",
     "output_type": "stream",
     "text": [
      " 6\n"
     ]
    },
    {
     "name": "stdout",
     "output_type": "stream",
     "text": [
      "21\n"
     ]
    }
   ],
   "source": [
    "# sum of n natural numbers\n",
    "def sum(n):\n",
    "    if n==0:return 0\n",
    "    return n+sum(n-1)\n",
    "n=int(input())\n",
    "x=sum(n)\n",
    "print(x)\n",
    "        "
   ]
  },
  {
   "cell_type": "code",
   "execution_count": 4,
   "id": "f026de5d-a7f6-4804-961d-d66203b3483f",
   "metadata": {},
   "outputs": [
    {
     "name": "stdin",
     "output_type": "stream",
     "text": [
      " 5\n"
     ]
    },
    {
     "name": "stdout",
     "output_type": "stream",
     "text": [
      "9\n"
     ]
    }
   ],
   "source": [
    "def sum_of_odd(n):\n",
    "    if n==0: return n\n",
    "    if n%2!=0:\n",
    "        return n + sum_of_odd(n-1)\n",
    "    return sum_of_odd(n-1)\n",
    "n=int(input())\n",
    "x=sum_of_odd(n)\n",
    "print(x)"
   ]
  },
  {
   "cell_type": "code",
   "execution_count": 4,
   "id": "447fd4cf-05db-47c7-b8f4-0a895af63e91",
   "metadata": {},
   "outputs": [
    {
     "name": "stdin",
     "output_type": "stream",
     "text": [
      " 1244\n"
     ]
    },
    {
     "name": "stdout",
     "output_type": "stream",
     "text": [
      "4\n"
     ]
    }
   ],
   "source": [
    "#count of indivisal numbers\n",
    "n=int(input())\n",
    "def count(n):\n",
    "    count=0\n",
    "    while (n>0):\n",
    "        n=n//10\n",
    "        count+=1\n",
    "    return count\n",
    "x=count(n)\n",
    "print(x)"
   ]
  },
  {
   "cell_type": "code",
   "execution_count": 15,
   "id": "7352cb8c-a3a3-4558-a44f-951736a4d357",
   "metadata": {},
   "outputs": [
    {
     "name": "stdin",
     "output_type": "stream",
     "text": [
      " 55\n"
     ]
    },
    {
     "name": "stdout",
     "output_type": "stream",
     "text": [
      "5\n"
     ]
    }
   ],
   "source": [
    "#sum  of indivisal numbers\n",
    "def sum(n):\n",
    "    sum=0\n",
    "    while(n>0):\n",
    "        n=n//10\n",
    "        sum+=n\n",
    "    return sum \n",
    "n=int(input())\n",
    "x=sum(n)\n",
    "print(x)"
   ]
  },
  {
   "cell_type": "code",
   "execution_count": null,
   "id": "959de467-1e36-47b5-a446-ee6f628cc847",
   "metadata": {},
   "outputs": [],
   "source": []
  }
 ],
 "metadata": {
  "kernelspec": {
   "display_name": "Python 3 (ipykernel)",
   "language": "python",
   "name": "python3"
  },
  "language_info": {
   "codemirror_mode": {
    "name": "ipython",
    "version": 3
   },
   "file_extension": ".py",
   "mimetype": "text/x-python",
   "name": "python",
   "nbconvert_exporter": "python",
   "pygments_lexer": "ipython3",
   "version": "3.12.0"
  }
 },
 "nbformat": 4,
 "nbformat_minor": 5
}
