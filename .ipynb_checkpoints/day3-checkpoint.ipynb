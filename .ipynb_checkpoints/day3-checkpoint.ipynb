{
 "cells": [
  {
   "cell_type": "code",
   "execution_count": 1,
   "id": "bad5147a-02a3-4a99-865f-55501ed07368",
   "metadata": {},
   "outputs": [
    {
     "name": "stdout",
     "output_type": "stream",
     "text": [
      "True\n"
     ]
    }
   ],
   "source": [
    "age=20\n",
    "print(age>18)"
   ]
  },
  {
   "cell_type": "code",
   "execution_count": 2,
   "id": "97d834ea-0b27-4197-b243-912fbd6e0661",
   "metadata": {},
   "outputs": [
    {
     "name": "stdout",
     "output_type": "stream",
     "text": [
      "False\n"
     ]
    }
   ],
   "source": [
    "age=17\n",
    "print(age>18)"
   ]
  },
  {
   "cell_type": "code",
   "execution_count": 4,
   "id": "1d5beca4-8090-4b01-bad7-87ef7bd3d292",
   "metadata": {},
   "outputs": [
    {
     "name": "stdout",
     "output_type": "stream",
     "text": [
      "True\n"
     ]
    }
   ],
   "source": [
    "n=20\n",
    "print(n>0)"
   ]
  },
  {
   "cell_type": "code",
   "execution_count": 5,
   "id": "0c6f09a2-70e9-47b8-838a-462eb597a677",
   "metadata": {},
   "outputs": [
    {
     "name": "stdout",
     "output_type": "stream",
     "text": [
      "False\n"
     ]
    }
   ],
   "source": [
    "n=-20\n",
    "print(n>0)"
   ]
  },
  {
   "cell_type": "code",
   "execution_count": null,
   "id": "c8fbc8c4-7c8c-4184-a70c-93725829cc7f",
   "metadata": {},
   "outputs": [],
   "source": []
  }
 ],
 "metadata": {
  "kernelspec": {
   "display_name": "Python 3 (ipykernel)",
   "language": "python",
   "name": "python3"
  },
  "language_info": {
   "codemirror_mode": {
    "name": "ipython",
    "version": 3
   },
   "file_extension": ".py",
   "mimetype": "text/x-python",
   "name": "python",
   "nbconvert_exporter": "python",
   "pygments_lexer": "ipython3",
   "version": "3.12.0"
  }
 },
 "nbformat": 4,
 "nbformat_minor": 5
}
