{
 "cells": [
  {
   "cell_type": "code",
   "execution_count": 1,
   "id": "e258991e-bb70-4736-ada5-adea43f4778c",
   "metadata": {},
   "outputs": [
    {
     "name": "stdout",
     "output_type": "stream",
     "text": [
      "False\n",
      "True\n"
     ]
    }
   ],
   "source": [
    "fun=\"omkar\"\n",
    "print(fun.isupper())\n",
    "print(fun.islower())\n"
   ]
  },
  {
   "cell_type": "code",
   "execution_count": 2,
   "id": "0aa84177-b8e8-48a3-b948-f9c34b1eb71f",
   "metadata": {},
   "outputs": [
    {
     "name": "stdout",
     "output_type": "stream",
     "text": [
      "-1\n"
     ]
    }
   ],
   "source": [
    "fun=\"omkar\"\n",
    "print(fun.find(\"z\"))"
   ]
  },
  {
   "cell_type": "code",
   "execution_count": 3,
   "id": "36171f61-3b90-497e-b8f8-060cd6c130ed",
   "metadata": {},
   "outputs": [
    {
     "ename": "ValueError",
     "evalue": "substring not found",
     "output_type": "error",
     "traceback": [
      "\u001b[1;31m---------------------------------------------------------------------------\u001b[0m",
      "\u001b[1;31mValueError\u001b[0m                                Traceback (most recent call last)",
      "Cell \u001b[1;32mIn[3], line 2\u001b[0m\n\u001b[0;32m      1\u001b[0m fun\u001b[38;5;241m=\u001b[39m\u001b[38;5;124m\"\u001b[39m\u001b[38;5;124momkar\u001b[39m\u001b[38;5;124m\"\u001b[39m\n\u001b[1;32m----> 2\u001b[0m \u001b[38;5;28mprint\u001b[39m(\u001b[43mfun\u001b[49m\u001b[38;5;241;43m.\u001b[39;49m\u001b[43mindex\u001b[49m\u001b[43m(\u001b[49m\u001b[38;5;124;43m\"\u001b[39;49m\u001b[38;5;124;43mz\u001b[39;49m\u001b[38;5;124;43m\"\u001b[39;49m\u001b[43m)\u001b[49m)\n\u001b[0;32m      3\u001b[0m \u001b[38;5;66;03m# when you try to find not excisting letter in a word that's time the compailer raise error\u001b[39;00m\n",
      "\u001b[1;31mValueError\u001b[0m: substring not found"
     ]
    }
   ],
   "source": [
    "fun=\"omkar\"\n",
    "print(fun.index(\"z\"))\n",
    "# when you try to find not excisting letter in a word that's time the compailer raise error"
   ]
  },
  {
   "cell_type": "code",
   "execution_count": 4,
   "id": "4d4ef6d3-1ea4-4515-857d-e0d28b6bd89d",
   "metadata": {},
   "outputs": [
    {
     "name": "stdout",
     "output_type": "stream",
     "text": [
      "vuyyala omkar\n",
      "b'v omkar'\n"
     ]
    }
   ],
   "source": [
    "a=\"v omkar\"\n",
    "print(a.replace('v','vuyyala'))\n",
    "print(a.encode())"
   ]
  },
  {
   "cell_type": "code",
   "execution_count": 5,
   "id": "1f70e00d-85bc-4eb3-aab0-361edeccb7e9",
   "metadata": {},
   "outputs": [
    {
     "name": "stdout",
     "output_type": "stream",
     "text": [
      "V o m k a r\n"
     ]
    }
   ],
   "source": [
    "a=\"V\\to\\tm\\tk\\ta\\tr\"\n",
    "print(a.expandtabs(2))"
   ]
  },
  {
   "cell_type": "code",
   "execution_count": 6,
   "id": "13a972b0-897a-43a5-b658-6c55339f4420",
   "metadata": {},
   "outputs": [
    {
     "name": "stdout",
     "output_type": "stream",
     "text": [
      "1\n"
     ]
    }
   ],
   "source": [
    "a=\"V omkar\"\n",
    "print(a.count(\"a\"))"
   ]
  },
  {
   "cell_type": "code",
   "execution_count": 7,
   "id": "e3a5ebe1-b484-4e22-aeaf-987b046fe783",
   "metadata": {},
   "outputs": [
    {
     "name": "stdout",
     "output_type": "stream",
     "text": [
      "6\n"
     ]
    }
   ],
   "source": [
    "a=\"V omkar\"\n",
    "print(a.find(\"r\"))"
   ]
  },
  {
   "cell_type": "code",
   "execution_count": 8,
   "id": "badc8b60-b16f-4ef7-b3c8-6d3133d80890",
   "metadata": {},
   "outputs": [
    {
     "name": "stdout",
     "output_type": "stream",
     "text": [
      "2\n"
     ]
    }
   ],
   "source": [
    "a=\"V omkar\"\n",
    "print(a.index(\"o\"))"
   ]
  },
  {
   "cell_type": "code",
   "execution_count": 9,
   "id": "8f5b57d9-f2fc-4817-9b2d-8b1bd985658a",
   "metadata": {},
   "outputs": [
    {
     "name": "stdout",
     "output_type": "stream",
     "text": [
      "True\n"
     ]
    }
   ],
   "source": [
    "a=\"V653omkar\"\n",
    "print(a.isalnum())"
   ]
  },
  {
   "cell_type": "code",
   "execution_count": 10,
   "id": "781989ce-96f0-4f04-9aa0-6dd82debb7b5",
   "metadata": {},
   "outputs": [
    {
     "name": "stdout",
     "output_type": "stream",
     "text": [
      "False\n"
     ]
    }
   ],
   "source": [
    "a=\"V 98omkar\"\n",
    "print(a.isalnum())"
   ]
  },
  {
   "cell_type": "code",
   "execution_count": 11,
   "id": "ee478bef-24d5-4b84-bed6-5c3902d95334",
   "metadata": {},
   "outputs": [
    {
     "name": "stdout",
     "output_type": "stream",
     "text": [
      "False\n"
     ]
    }
   ],
   "source": [
    "a=\"v omkar\" \n",
    "print(a.isalpha())"
   ]
  },
  {
   "cell_type": "code",
   "execution_count": 12,
   "id": "61b740e7-ab16-4d2e-8491-4a2b476906ab",
   "metadata": {},
   "outputs": [
    {
     "name": "stdout",
     "output_type": "stream",
     "text": [
      "True\n"
     ]
    }
   ],
   "source": [
    "a=\"vomkar\" \n",
    "print(a.isalpha())"
   ]
  },
  {
   "cell_type": "code",
   "execution_count": 13,
   "id": "bfc821ab-a80a-4f28-8fe6-b9fd66b77c53",
   "metadata": {},
   "outputs": [
    {
     "name": "stdout",
     "output_type": "stream",
     "text": [
      "True\n"
     ]
    }
   ],
   "source": [
    "a=\"76\"\n",
    "print(a.isdecimal())"
   ]
  },
  {
   "cell_type": "code",
   "execution_count": 14,
   "id": "c561bbda-bbcf-4057-b425-37561e0a1281",
   "metadata": {},
   "outputs": [
    {
     "name": "stdout",
     "output_type": "stream",
     "text": [
      "True\n"
     ]
    }
   ],
   "source": [
    "a=\"76\" \n",
    "print(a.isdigit())"
   ]
  },
  {
   "cell_type": "code",
   "execution_count": 15,
   "id": "f650064b-5571-4014-98c5-4f3a5fc9ab50",
   "metadata": {},
   "outputs": [
    {
     "name": "stdout",
     "output_type": "stream",
     "text": [
      "False\n"
     ]
    }
   ],
   "source": [
    "a=\"vuyyala omkar\" \n",
    "print(a.isidentifier())"
   ]
  },
  {
   "cell_type": "code",
   "execution_count": 16,
   "id": "689bd252-c4e5-43b3-9330-3c8eaef78f6c",
   "metadata": {},
   "outputs": [
    {
     "name": "stdout",
     "output_type": "stream",
     "text": [
      "True\n"
     ]
    }
   ],
   "source": [
    "a=\"vuyyala324omkar\" \n",
    "print(a.isidentifier())"
   ]
  },
  {
   "cell_type": "code",
   "execution_count": 17,
   "id": "b7608180-8a18-4b83-b16c-eeb57adee750",
   "metadata": {},
   "outputs": [
    {
     "name": "stdout",
     "output_type": "stream",
     "text": [
      "True\n"
     ]
    }
   ],
   "source": [
    "a=\"765765\" \n",
    "print(a.isnumeric())"
   ]
  },
  {
   "cell_type": "code",
   "execution_count": 18,
   "id": "bd34aeea-404c-4c85-a3be-541a0b94f796",
   "metadata": {},
   "outputs": [
    {
     "name": "stdout",
     "output_type": "stream",
     "text": [
      "True\n"
     ]
    }
   ],
   "source": [
    "a=\"vuyyala omkar\" \n",
    "print(a.isprintable())"
   ]
  },
  {
   "cell_type": "code",
   "execution_count": 19,
   "id": "8112e946-d751-474e-9256-89cbee8c38f2",
   "metadata": {},
   "outputs": [
    {
     "name": "stdout",
     "output_type": "stream",
     "text": [
      "False\n"
     ]
    }
   ],
   "source": [
    "a=\"vuyyalaomkar\" \n",
    "print(a.isspace())"
   ]
  },
  {
   "cell_type": "code",
   "execution_count": 20,
   "id": "3734df1d-731a-4bff-bc58-6d775ce8b97c",
   "metadata": {},
   "outputs": [
    {
     "name": "stdout",
     "output_type": "stream",
     "text": [
      "True\n"
     ]
    }
   ],
   "source": [
    "a=\"    \" \n",
    "print(a.isspace())"
   ]
  },
  {
   "cell_type": "code",
   "execution_count": 21,
   "id": "94bd562e-0adf-4d36-9084-88614c09d46d",
   "metadata": {},
   "outputs": [
    {
     "name": "stdout",
     "output_type": "stream",
     "text": [
      "False\n"
     ]
    }
   ],
   "source": [
    "a=\"vuyyala Omkar\" \n",
    "print(a.istitle())"
   ]
  },
  {
   "cell_type": "code",
   "execution_count": 22,
   "id": "2c83c847-b6a7-46b5-9e02-82d2e52e34e1",
   "metadata": {},
   "outputs": [
    {
     "name": "stdout",
     "output_type": "stream",
     "text": [
      "True\n"
     ]
    }
   ],
   "source": [
    "a=\"Vuyyala Omkar\" \n",
    "print(a.istitle())"
   ]
  },
  {
   "cell_type": "code",
   "execution_count": 23,
   "id": "65ccf3a2-80ea-4a67-a36f-241618aa3a2c",
   "metadata": {},
   "outputs": [
    {
     "name": "stdout",
     "output_type": "stream",
     "text": [
      "Vuyyala$$Omkar\n"
     ]
    }
   ],
   "source": [
    "a={\"Vuyyala\",\"Omkar\"}\n",
    "sep=\"$$\"\n",
    "print(sep.join(a))"
   ]
  },
  {
   "cell_type": "code",
   "execution_count": 24,
   "id": "6fc78158-3854-4501-8e7e-c47db331dda9",
   "metadata": {},
   "outputs": [
    {
     "name": "stdout",
     "output_type": "stream",
     "text": [
      "vuyyala omkar\n"
     ]
    }
   ],
   "source": [
    "a=\"Vuyyala Omkar\" \n",
    "print(a.lower())"
   ]
  },
  {
   "cell_type": "code",
   "execution_count": 25,
   "id": "26bf9060-3a61-4c9d-9f11-18a604822f0c",
   "metadata": {},
   "outputs": [
    {
     "name": "stdout",
     "output_type": "stream",
     "text": [
      "Vuyyala Omkar\n"
     ]
    }
   ],
   "source": [
    "a=\"#######Vuyyala Omkar\" \n",
    "print(a.lstrip(\"#\"))"
   ]
  },
  {
   "cell_type": "code",
   "execution_count": null,
   "id": "7185dd6c-d476-42bb-aca1-202a7ff48904",
   "metadata": {},
   "outputs": [],
   "source": [
    "a=\"vuyyala omkar.v omkar reddy\"\n",
    "# v=0 u=1 y=2 y=3 a=4 l=5 a=6 7 o=8 m=9 k=10 a=11 r=12 .=13 v=14 15 o=16\n",
    "# m=17 k=18 a=19 r=20 21 r=22 e=23 d=24 d=25 y=26 \n",
    "print(a.rfind(\"reddy\"))"
   ]
  },
  {
   "cell_type": "code",
   "execution_count": 26,
   "id": "f9db8940-2166-41f1-a5b3-249ef4f1cc7d",
   "metadata": {},
   "outputs": [
    {
     "name": "stdout",
     "output_type": "stream",
     "text": [
      "3\n"
     ]
    }
   ],
   "source": [
    "a=\"vuyyala omkar\"\n",
    "print(a.rindex(\"y\"))"
   ]
  },
  {
   "cell_type": "code",
   "execution_count": 27,
   "id": "6d263c11-cc0f-48eb-b619-372c2a58b31b",
   "metadata": {},
   "outputs": [
    {
     "name": "stdout",
     "output_type": "stream",
     "text": [
      "VVVVVVVVuyyala omkar\n"
     ]
    }
   ],
   "source": [
    "a=\"Vuyyala omkar\"\n",
    "print(a.rjust(20,\"V\"))"
   ]
  },
  {
   "cell_type": "code",
   "execution_count": 28,
   "id": "196bf738-9cc1-4fc5-a61a-371e9f03b80d",
   "metadata": {},
   "outputs": [
    {
     "name": "stdout",
     "output_type": "stream",
     "text": [
      "Vuyyala omkarVVVVVVV\n"
     ]
    }
   ],
   "source": [
    "a=\"Vuyyala omkar\"\n",
    "print(a.ljust(20,\"V\"))"
   ]
  },
  {
   "cell_type": "code",
   "execution_count": 29,
   "id": "95bf7122-5546-411e-bf80-bd802e8b0658",
   "metadata": {},
   "outputs": [
    {
     "name": "stdout",
     "output_type": "stream",
     "text": [
      "['Vuyyala', 'omkar', 'reddy']\n"
     ]
    }
   ],
   "source": [
    "a=\"Vuyyala,omkar,reddy\"\n",
    "print(a.rsplit(\",\",2))"
   ]
  },
  {
   "cell_type": "code",
   "execution_count": 30,
   "id": "9ab3c451-1107-4e72-81b6-536401de0f54",
   "metadata": {},
   "outputs": [
    {
     "name": "stdout",
     "output_type": "stream",
     "text": [
      "Vuyyala omkar\n"
     ]
    }
   ],
   "source": [
    "a=\"Vuyyala omkar####\"\n",
    "print(a.rstrip(\"#\"))"
   ]
  },
  {
   "cell_type": "code",
   "execution_count": 31,
   "id": "8424ac0f-fe68-424f-a49e-57488c85a2e1",
   "metadata": {},
   "outputs": [
    {
     "name": "stdout",
     "output_type": "stream",
     "text": [
      "Vuyyala omkar\n"
     ]
    }
   ],
   "source": [
    "a=\"Vuyyala omkar        \"\n",
    "print(a.rstrip())"
   ]
  },
  {
   "cell_type": "code",
   "execution_count": 32,
   "id": "68c678c3-8958-4b79-baf9-dcdad2c11136",
   "metadata": {},
   "outputs": [
    {
     "name": "stdout",
     "output_type": "stream",
     "text": [
      "['Vuyyala', 'omkar$$reddy']\n"
     ]
    }
   ],
   "source": [
    "a=\"Vuyyala$$omkar$$reddy\"\n",
    "print(a.split(\"$$\",1))"
   ]
  },
  {
   "cell_type": "code",
   "execution_count": 33,
   "id": "b16d0f1f-c4a1-4dfe-963f-34f3a9954864",
   "metadata": {},
   "outputs": [
    {
     "name": "stdout",
     "output_type": "stream",
     "text": [
      "['Vuyyala', 'omkar']\n"
     ]
    }
   ],
   "source": [
    "a=\"Vuyyala$$omkar\"\n",
    "print(a.split(\"$$\",1))"
   ]
  },
  {
   "cell_type": "code",
   "execution_count": 34,
   "id": "6c793934-748c-4a49-9268-932bfde559cd",
   "metadata": {},
   "outputs": [
    {
     "name": "stdout",
     "output_type": "stream",
     "text": [
      "['Vuyyala\\n', 'omkar\\n', 'reddy']\n"
     ]
    }
   ],
   "source": [
    "a=\"Vuyyala\\nomkar\\nreddy\"\n",
    "print(a.splitlines(True))"
   ]
  },
  {
   "cell_type": "code",
   "execution_count": 35,
   "id": "39e1cf85-f7a9-4d99-affb-4c05de4c382e",
   "metadata": {},
   "outputs": [
    {
     "name": "stdout",
     "output_type": "stream",
     "text": [
      "['Vuyyala', 'omkar', 'reddy']\n"
     ]
    }
   ],
   "source": [
    "a=\"Vuyyala\\nomkar\\nreddy\"\n",
    "print(a.splitlines(False))"
   ]
  },
  {
   "cell_type": "code",
   "execution_count": 36,
   "id": "e84a86d9-91af-4e99-b0da-257ffbd2d1c5",
   "metadata": {},
   "outputs": [
    {
     "name": "stdout",
     "output_type": "stream",
     "text": [
      "False\n",
      "True\n"
     ]
    }
   ],
   "source": [
    "a=\"this is demo. this is another demo\"\n",
    "print(a.startswith(\"other\",15,20))\n",
    "'''a1=\"this is demo. this is another demo\"'''\n",
    "print(a.startswith(\"an\",22,30))"
   ]
  },
  {
   "cell_type": "code",
   "execution_count": 37,
   "id": "9a6ad62b-ea82-487e-97e9-d4f1eb28c3fe",
   "metadata": {},
   "outputs": [
    {
     "name": "stdout",
     "output_type": "stream",
     "text": [
      "oMKAR rEDDY\n"
     ]
    }
   ],
   "source": [
    "a=\"Omkar Reddy\"\n",
    "print(a.swapcase())"
   ]
  },
  {
   "cell_type": "code",
   "execution_count": 38,
   "id": "55ffd727-5058-4757-9f88-70a2606dd991",
   "metadata": {},
   "outputs": [
    {
     "name": "stdout",
     "output_type": "stream",
     "text": [
      "Vuyyala Omkar\n"
     ]
    }
   ],
   "source": [
    "a=\"vuyyala omkar\"\n",
    "print(a.title())"
   ]
  },
  {
   "cell_type": "code",
   "execution_count": 39,
   "id": "5ca535d8-f54b-47d5-ab46-10bc4b338b07",
   "metadata": {},
   "outputs": [
    {
     "name": "stdout",
     "output_type": "stream",
     "text": [
      "VUYYALA OMKAR\n"
     ]
    }
   ],
   "source": [
    "a=\"vuyyala omkar\"\n",
    "print(a.upper())"
   ]
  },
  {
   "cell_type": "code",
   "execution_count": 40,
   "id": "112d0fee-3d0c-4530-9629-849542c89b19",
   "metadata": {},
   "outputs": [
    {
     "name": "stdout",
     "output_type": "stream",
     "text": [
      "00vuyyala omkar!\n"
     ]
    }
   ],
   "source": [
    "a=\"vuyyala omkar!\"\n",
    "print(a.zfill(16))"
   ]
  },
  {
   "cell_type": "code",
   "execution_count": 41,
   "id": "b78b351e-e772-41b7-961c-187be7cd7152",
   "metadata": {},
   "outputs": [
    {
     "name": "stdout",
     "output_type": "stream",
     "text": [
      "007654.236\n"
     ]
    }
   ],
   "source": [
    "a=\"7654.236\"\n",
    "print(a.zfill(10))"
   ]
  },
  {
   "cell_type": "code",
   "execution_count": 42,
   "id": "f283f189-545e-4d7e-86f2-fecff171747f",
   "metadata": {},
   "outputs": [
    {
     "name": "stdout",
     "output_type": "stream",
     "text": [
      "vuyyala  omkar!\n"
     ]
    }
   ],
   "source": [
    "a=\"   vuyyala  omkar!   \"\n",
    "print(a.strip())"
   ]
  },
  {
   "cell_type": "code",
   "execution_count": 43,
   "id": "c85859b2-7631-4534-8e07-ed89e8ec4556",
   "metadata": {},
   "outputs": [
    {
     "name": "stdout",
     "output_type": "stream",
     "text": [
      "My Name Is Vuyyala Omkar Reddy I Am From Penukonda\n"
     ]
    }
   ],
   "source": [
    "a=\"My Name Is Vuyyala {0} Reddy I Am From {1}\"\n",
    "print(a.format(\"Omkar\",\"Penukonda\"))"
   ]
  },
  {
   "cell_type": "code",
   "execution_count": 44,
   "id": "8d58aa2e-93ca-45c9-972c-eb9333fbf236",
   "metadata": {},
   "outputs": [
    {
     "name": "stdout",
     "output_type": "stream",
     "text": [
      "a b c\n"
     ]
    }
   ],
   "source": [
    "a=\"{a} {b} {c}\"\n",
    "print(a.format(a=\"a\",b=\"b\",c=\"c\"))"
   ]
  },
  {
   "cell_type": "code",
   "execution_count": 45,
   "id": "47bf740f-bff5-4c64-b826-e86479d6eeae",
   "metadata": {},
   "outputs": [
    {
     "name": "stdout",
     "output_type": "stream",
     "text": [
      "hi hello how are you\n"
     ]
    }
   ],
   "source": [
    "a=\"{2} {1} {0}\"\n",
    "print(a.format(\"how are you\",\"hello\",\"hi\"))\n",
    "#this is called here how are you is 0 and hello is 1 and hi is 2"
   ]
  },
  {
   "cell_type": "code",
   "execution_count": 46,
   "id": "88d16977-ffd3-42ce-be76-0e5e83c13f47",
   "metadata": {},
   "outputs": [
    {
     "name": "stdout",
     "output_type": "stream",
     "text": [
      "True\n"
     ]
    }
   ],
   "source": [
    "a=\"v omkar12321@\"\n",
    "print(a.isascii())"
   ]
  },
  {
   "cell_type": "code",
   "execution_count": 47,
   "id": "d70eb058-44e4-486d-9667-ee84be01ab68",
   "metadata": {},
   "outputs": [
    {
     "name": "stdout",
     "output_type": "stream",
     "text": [
      "('vuyyala ', 'omkar', ' reddy')\n",
      "('', 'v', 'uyyala omkar reddy')\n",
      "('v', 'u', 'yyala omkar reddy')\n"
     ]
    }
   ],
   "source": [
    "a= \"vuyyala omkar reddy\"\n",
    "print(a.rpartition(\"omkar\"))\n",
    "print(a.rpartition(\"v\"))\n",
    "print(a.rpartition (\"u\"))"
   ]
  },
  {
   "cell_type": "code",
   "execution_count": null,
   "id": "6d372cff-e282-47d0-a74a-30545d22708a",
   "metadata": {},
   "outputs": [],
   "source": []
  },
  {
   "cell_type": "code",
   "execution_count": null,
   "id": "a26d9488-5870-44d2-b050-491e1ab67e1c",
   "metadata": {},
   "outputs": [],
   "source": []
  },
  {
   "cell_type": "code",
   "execution_count": null,
   "id": "730229f6-5154-46e6-a265-a44ecb07d408",
   "metadata": {},
   "outputs": [],
   "source": []
  },
  {
   "cell_type": "code",
   "execution_count": null,
   "id": "00ae5ac4-a6c7-4c34-b695-fd0998aa85ec",
   "metadata": {},
   "outputs": [],
   "source": []
  },
  {
   "cell_type": "code",
   "execution_count": null,
   "id": "c7dc73ac-56d7-4337-ab14-b40228aca47f",
   "metadata": {},
   "outputs": [],
   "source": []
  },
  {
   "cell_type": "code",
   "execution_count": null,
   "id": "c0a70c7b-099a-47ab-a610-cb089abceb2e",
   "metadata": {},
   "outputs": [],
   "source": []
  },
  {
   "cell_type": "code",
   "execution_count": null,
   "id": "1e0105a9-2dbd-4ab6-9e80-3a4cd208df80",
   "metadata": {},
   "outputs": [],
   "source": []
  }
 ],
 "metadata": {
  "kernelspec": {
   "display_name": "Python 3 (ipykernel)",
   "language": "python",
   "name": "python3"
  },
  "language_info": {
   "codemirror_mode": {
    "name": "ipython",
    "version": 3
   },
   "file_extension": ".py",
   "mimetype": "text/x-python",
   "name": "python",
   "nbconvert_exporter": "python",
   "pygments_lexer": "ipython3",
   "version": "3.12.0"
  }
 },
 "nbformat": 4,
 "nbformat_minor": 5
}
