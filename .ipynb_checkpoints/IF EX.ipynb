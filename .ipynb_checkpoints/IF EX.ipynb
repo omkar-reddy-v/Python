{
 "cells": [
  {
   "cell_type": "code",
   "execution_count": 3,
   "id": "5fb8886c-9480-4e96-b8ce-95c0804465ae",
   "metadata": {},
   "outputs": [
    {
     "name": "stdin",
     "output_type": "stream",
     "text": [
      " 15\n"
     ]
    },
    {
     "name": "stdout",
     "output_type": "stream",
     "text": [
      "n is odd but not less than 10\n"
     ]
    }
   ],
   "source": [
    "n=int(input())\n",
    "if n%2==0:\n",
    "    if n>10:\n",
    "        print(\"n is even and greter than 10\")\n",
    "    else:\n",
    "        print(\"n is even but not greter than 10\")\n",
    "else:\n",
    "    if n%2!=0:\n",
    "        if n<10:\n",
    "            print(\"n is odd and less than 10\")\n",
    "        else:\n",
    "            print(\"n is odd but not less than 10\")"
   ]
  },
  {
   "cell_type": "code",
   "execution_count": 1,
   "id": "47aba914-3050-4f3f-8e5e-1fde9b65f150",
   "metadata": {},
   "outputs": [
    {
     "name": "stdin",
     "output_type": "stream",
     "text": [
      " 56\n"
     ]
    },
    {
     "name": "stdout",
     "output_type": "stream",
     "text": [
      "n is factor of 56 and multiple of 4\n"
     ]
    }
   ],
   "source": [
    "#WAP TO PRINT n is factor of 56 and multiple of 4\n",
    "n=int(input())\n",
    "if n%56==0 and n%4==0:\n",
    "    print(\"n is factor of 56 and multiple of 4\")"
   ]
  },
  {
   "cell_type": "code",
   "execution_count": 30,
   "id": "551327b4-d05f-42c8-875c-47908c6634fb",
   "metadata": {},
   "outputs": [
    {
     "name": "stdin",
     "output_type": "stream",
     "text": [
      " 89\n"
     ]
    },
    {
     "name": "stdout",
     "output_type": "stream",
     "text": [
      "b\n"
     ]
    }
   ],
   "source": [
    "#WAP TO PRINT grades of student\n",
    "n=float(input())\n",
    "if 90<= n <=100:\n",
    "    print(\"a\")\n",
    "elif 75<= n <=89 :\n",
    "    print(\"b\")\n",
    "elif 65<= n <=74:\n",
    "    print(\"c\")\n",
    "elif 35<= n <=64:\n",
    "    print(\"d\")\n",
    "else:\n",
    "    print(\"fail\")"
   ]
  },
  {
   "cell_type": "code",
   "execution_count": 32,
   "id": "0412afd8-1aba-4ddd-bac2-22db93ff60f8",
   "metadata": {},
   "outputs": [
    {
     "name": "stdin",
     "output_type": "stream",
     "text": [
      " 10\n"
     ]
    },
    {
     "name": "stdout",
     "output_type": "stream",
     "text": [
      "1 2 3 4 5 6 7 8 9 10 "
     ]
    }
   ],
   "source": [
    "n=int(input())\n",
    "i=1\n",
    "while i<=n:\n",
    "    print(i,end=\" \")\n",
    "    i+=1"
   ]
  },
  {
   "cell_type": "code",
   "execution_count": 34,
   "id": "61e5dbda-fa73-4798-b7d7-110ea79c9d0b",
   "metadata": {},
   "outputs": [
    {
     "name": "stdin",
     "output_type": "stream",
     "text": [
      " 10\n"
     ]
    },
    {
     "name": "stdout",
     "output_type": "stream",
     "text": [
      "0 2 4 6 8 10 "
     ]
    }
   ],
   "source": [
    "#WAP to print even numbers upto n\n",
    "n=int(input())\n",
    "i=0\n",
    "while i<=n:\n",
    "    print(i,end=\" \")\n",
    "    i+=2"
   ]
  },
  {
   "cell_type": "code",
   "execution_count": 7,
   "id": "51da500f-eacc-44b8-b77b-9ce0e2cf44b6",
   "metadata": {},
   "outputs": [
    {
     "name": "stdin",
     "output_type": "stream",
     "text": [
      " 15\n"
     ]
    },
    {
     "name": "stdout",
     "output_type": "stream",
     "text": [
      "1 3 5 7 9 11 13 15 "
     ]
    }
   ],
   "source": [
    "#WAP TO PRINT odd numbers upto n\n",
    "n=int(input())\n",
    "i=1\n",
    "while i<=n:\n",
    "    print(i,end=\" \")\n",
    "    i+=2"
   ]
  },
  {
   "cell_type": "code",
   "execution_count": 9,
   "id": "03dff844-8226-4d52-a366-5d557f0a53da",
   "metadata": {},
   "outputs": [
    {
     "name": "stdin",
     "output_type": "stream",
     "text": [
      " 10\n"
     ]
    },
    {
     "name": "stdout",
     "output_type": "stream",
     "text": [
      "10 8 6 4 2 "
     ]
    }
   ],
   "source": [
    "#WAP TO PRINT even numbers upto n in a reverse oder\n",
    "n=int(input())\n",
    "i=n\n",
    "while i>=1:\n",
    "    if i%2==0:\n",
    "        print(i,end=\" \")\n",
    "    i-=1"
   ]
  },
  {
   "cell_type": "code",
   "execution_count": 10,
   "id": "2d1fec93-68f9-4269-9883-647af42a1d36",
   "metadata": {},
   "outputs": [
    {
     "name": "stdin",
     "output_type": "stream",
     "text": [
      " 10\n"
     ]
    },
    {
     "name": "stdout",
     "output_type": "stream",
     "text": [
      "4 "
     ]
    }
   ],
   "source": [
    "#WAP TO COUNT THE FACTORES OF A GIVN NUMBER\n",
    "n=int(input())\n",
    "i=1\n",
    "count=0\n",
    "while i<=n:\n",
    "    if n%i==0:\n",
    "        count+=1\n",
    "    i+=1\n",
    "print(count,end=\" \")"
   ]
  },
  {
   "cell_type": "code",
   "execution_count": 11,
   "id": "502a1a60-b5f7-474d-82c0-e74fb2d6da45",
   "metadata": {},
   "outputs": [
    {
     "name": "stdin",
     "output_type": "stream",
     "text": [
      " 5\n"
     ]
    },
    {
     "name": "stdout",
     "output_type": "stream",
     "text": [
      "15\n"
     ]
    }
   ],
   "source": [
    "#WAP TO PRINT SUM OF N NATURAL NUMBERS\n",
    "n=int(input())\n",
    "i=1\n",
    "sum=0\n",
    "while i<=n:\n",
    "    sum+=i\n",
    "    i+=1\n",
    "print(sum)"
   ]
  },
  {
   "cell_type": "code",
   "execution_count": 12,
   "id": "c77be9ea-2448-40cc-a603-2f8dccaee2f0",
   "metadata": {},
   "outputs": [
    {
     "name": "stdin",
     "output_type": "stream",
     "text": [
      " 10\n"
     ]
    },
    {
     "name": "stdout",
     "output_type": "stream",
     "text": [
      "12\n"
     ]
    }
   ],
   "source": [
    "#WAP TO PRINT SUM OF ALTERNATIVE EVEN NUMBERS\n",
    "n=int(input())\n",
    "i=0\n",
    "sum=0\n",
    "while i<=n:\n",
    "    if i%2==0:\n",
    "        sum+=i\n",
    "    i+=4\n",
    "print(sum)"
   ]
  },
  {
   "cell_type": "code",
   "execution_count": 16,
   "id": "f76e61a8-4d0e-4147-9090-4f92e160544a",
   "metadata": {},
   "outputs": [
    {
     "name": "stdin",
     "output_type": "stream",
     "text": [
      " 5\n"
     ]
    },
    {
     "name": "stdout",
     "output_type": "stream",
     "text": [
      "1\n",
      "1\n",
      "1\n",
      "1\n",
      "2\n"
     ]
    }
   ],
   "source": [
    "#WAP to print count of factors of a given number\n",
    "n=int(input())\n",
    "i=1\n",
    "count=0\n",
    "while i<=n:\n",
    "    if n%i==0:\n",
    "        count+=1\n",
    "    i+=1\n",
    "    print(count)"
   ]
  },
  {
   "cell_type": "code",
   "execution_count": 18,
   "id": "cdbb7ea5-1b78-4f37-98a5-02affa7b9549",
   "metadata": {},
   "outputs": [
    {
     "name": "stdin",
     "output_type": "stream",
     "text": [
      " 10\n"
     ]
    },
    {
     "name": "stdout",
     "output_type": "stream",
     "text": [
      "18\n"
     ]
    }
   ],
   "source": [
    "#WAP TO print sum of factors of a given number\n",
    "n=int(input())\n",
    "i=1\n",
    "sum=0\n",
    "while i<=n:\n",
    "    if n%i==0:\n",
    "        sum+=i\n",
    "    i+=1\n",
    "print(sum)\n"
   ]
  },
  {
   "cell_type": "code",
   "execution_count": 21,
   "id": "12f15988-ecc0-490c-a345-a2a01e58a76a",
   "metadata": {},
   "outputs": [
    {
     "name": "stdin",
     "output_type": "stream",
     "text": [
      " 10\n"
     ]
    },
    {
     "name": "stdout",
     "output_type": "stream",
     "text": [
      "1 2 5 10 "
     ]
    }
   ],
   "source": [
    "#WAP TO print  factors of a given number\n",
    "n=int(input())\n",
    "i=1\n",
    "while i<=n:\n",
    "    if n%i==0:\n",
    "        print(i,end=\" \")\n",
    "    i+=1\n"
   ]
  },
  {
   "cell_type": "code",
   "execution_count": 23,
   "id": "2e2871a1-fee0-4abb-b6a5-9bc3eec1a5b0",
   "metadata": {},
   "outputs": [
    {
     "name": "stdin",
     "output_type": "stream",
     "text": [
      " 10\n"
     ]
    },
    {
     "name": "stdout",
     "output_type": "stream",
     "text": [
      "not perfect\n"
     ]
    }
   ],
   "source": [
    "#WAP to print prime or not\n",
    "n=int(input())\n",
    "i=1\n",
    "count=0\n",
    "while i<=n:\n",
    "    if n%i==0:\n",
    "        count+=1\n",
    "    i+=1\n",
    "if count==2:\n",
    "    print(\"perfect\")\n",
    "else:\n",
    "    print(\"not perfect\")"
   ]
  },
  {
   "cell_type": "code",
   "execution_count": 1,
   "id": "e1f0865d-b46e-4398-8791-4925440a9c80",
   "metadata": {},
   "outputs": [
    {
     "name": "stdin",
     "output_type": "stream",
     "text": [
      " 3442\n"
     ]
    },
    {
     "name": "stdout",
     "output_type": "stream",
     "text": [
      "2443"
     ]
    }
   ],
   "source": [
    "#WAP to print n in reverse oder\n",
    "n=int(input())\n",
    "i=n\n",
    "while i!=0:\n",
    "    a=i%10\n",
    "    print(a,end=\"\")\n",
    "    i=i//10"
   ]
  },
  {
   "cell_type": "code",
   "execution_count": 3,
   "id": "acdd4f94-f362-4b26-8f4f-5504c3769bc9",
   "metadata": {},
   "outputs": [
    {
     "name": "stdin",
     "output_type": "stream",
     "text": [
      " 3273\n"
     ]
    },
    {
     "name": "stdout",
     "output_type": "stream",
     "text": [
      "4\n"
     ]
    }
   ],
   "source": [
    "#WAP to print count of indivaldigits\n",
    "n=int(input())\n",
    "i=n\n",
    "count=0\n",
    "while i!=0:\n",
    "    i=i//10\n",
    "    count+=1\n",
    "print(count)"
   ]
  },
  {
   "cell_type": "code",
   "execution_count": 5,
   "id": "8a8ea7f2-17ab-4c2b-a2fe-08b298e7d058",
   "metadata": {},
   "outputs": [
    {
     "name": "stdin",
     "output_type": "stream",
     "text": [
      " 123\n"
     ]
    },
    {
     "name": "stdout",
     "output_type": "stream",
     "text": [
      "6\n"
     ]
    }
   ],
   "source": [
    "#WAP to print sum of indivaldigits\n",
    "n=int(input())\n",
    "i=n\n",
    "sum=0\n",
    "while i!=0:\n",
    "    a=i%10\n",
    "    i=i//10\n",
    "    sum+=a\n",
    "print(sum)"
   ]
  }
 ],
 "metadata": {
  "kernelspec": {
   "display_name": "Python 3 (ipykernel)",
   "language": "python",
   "name": "python3"
  },
  "language_info": {
   "codemirror_mode": {
    "name": "ipython",
    "version": 3
   },
   "file_extension": ".py",
   "mimetype": "text/x-python",
   "name": "python",
   "nbconvert_exporter": "python",
   "pygments_lexer": "ipython3",
   "version": "3.12.0"
  }
 },
 "nbformat": 4,
 "nbformat_minor": 5
}
